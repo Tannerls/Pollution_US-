{
 "cells": [
  {
   "cell_type": "code",
   "execution_count": null,
   "id": "b602f16d",
   "metadata": {},
   "outputs": [],
   "source": [
    "# A mockup of our machine learning model\n",
    "# accuracy of predicting Air Quality Index for most polluted and least polluted city"
   ]
  },
  {
   "cell_type": "code",
   "execution_count": 1,
   "id": "a770464f",
   "metadata": {},
   "outputs": [],
   "source": [
    "# Import our dependencies\n",
    "import pandas as pd\n",
    "import matplotlib as plt\n",
    "import sklearn as skl\n",
    "import sqlalchemy\n",
    "from sqlalchemy import create_engine \n",
    "from sklearn.model_selection import train_test_split\n",
    "from collections import Counter"
   ]
  },
  {
   "cell_type": "code",
   "execution_count": 2,
   "id": "c5746c8a",
   "metadata": {},
   "outputs": [],
   "source": [
    "# Postgres username, password, and database name (change accordingly)\n",
    "postgres_address = 'localhost'\n",
    "postgres_port = '5432' \n",
    "postgres_username = 'postgres' \n",
    "postgres_password = 'Wolfin2330'\n",
    "postgres_dbname = 'Pollution_US'\n",
    "# A long string that contains the necessary Postgres login information\n",
    "postgres_str = ('postgresql://{username}:{password}@{ipaddress}:{port}/{dbname}'\n",
    "                .format(username=postgres_username,\n",
    "                        password=postgres_password,\n",
    "                        ipaddress=postgres_address,\n",
    "                        port=postgres_port,\n",
    "                        dbname=postgres_dbname))\n",
    "# Create the connection\n",
    "cnx = create_engine(postgres_str)"
   ]
  },
  {
   "cell_type": "code",
   "execution_count": 13,
   "id": "9c54a847",
   "metadata": {},
   "outputs": [
    {
     "data": {
      "text/html": [
       "<div>\n",
       "<style scoped>\n",
       "    .dataframe tbody tr th:only-of-type {\n",
       "        vertical-align: middle;\n",
       "    }\n",
       "\n",
       "    .dataframe tbody tr th {\n",
       "        vertical-align: top;\n",
       "    }\n",
       "\n",
       "    .dataframe thead th {\n",
       "        text-align: right;\n",
       "    }\n",
       "</style>\n",
       "<table border=\"1\" class=\"dataframe\">\n",
       "  <thead>\n",
       "    <tr style=\"text-align: right;\">\n",
       "      <th></th>\n",
       "      <th>state_code</th>\n",
       "      <th>county_code</th>\n",
       "      <th>site_num</th>\n",
       "      <th>address</th>\n",
       "      <th>state</th>\n",
       "      <th>county</th>\n",
       "      <th>city</th>\n",
       "      <th>date_local</th>\n",
       "      <th>co_agi</th>\n",
       "    </tr>\n",
       "  </thead>\n",
       "  <tbody>\n",
       "    <tr>\n",
       "      <th>0</th>\n",
       "      <td>6</td>\n",
       "      <td>73</td>\n",
       "      <td>1007</td>\n",
       "      <td>330A 12TH AVE., SAN DIEGO, CA. 92112</td>\n",
       "      <td>California</td>\n",
       "      <td>San Diego</td>\n",
       "      <td>San Diego</td>\n",
       "      <td>2000-01-01</td>\n",
       "      <td>17</td>\n",
       "    </tr>\n",
       "    <tr>\n",
       "      <th>1</th>\n",
       "      <td>6</td>\n",
       "      <td>73</td>\n",
       "      <td>1007</td>\n",
       "      <td>330A 12TH AVE., SAN DIEGO, CA. 92112</td>\n",
       "      <td>California</td>\n",
       "      <td>San Diego</td>\n",
       "      <td>San Diego</td>\n",
       "      <td>2000-01-02</td>\n",
       "      <td>20</td>\n",
       "    </tr>\n",
       "    <tr>\n",
       "      <th>2</th>\n",
       "      <td>6</td>\n",
       "      <td>73</td>\n",
       "      <td>1007</td>\n",
       "      <td>330A 12TH AVE., SAN DIEGO, CA. 92112</td>\n",
       "      <td>California</td>\n",
       "      <td>San Diego</td>\n",
       "      <td>San Diego</td>\n",
       "      <td>2000-01-03</td>\n",
       "      <td>30</td>\n",
       "    </tr>\n",
       "    <tr>\n",
       "      <th>3</th>\n",
       "      <td>6</td>\n",
       "      <td>73</td>\n",
       "      <td>1007</td>\n",
       "      <td>330A 12TH AVE., SAN DIEGO, CA. 92112</td>\n",
       "      <td>California</td>\n",
       "      <td>San Diego</td>\n",
       "      <td>San Diego</td>\n",
       "      <td>2000-01-04</td>\n",
       "      <td>34</td>\n",
       "    </tr>\n",
       "    <tr>\n",
       "      <th>4</th>\n",
       "      <td>6</td>\n",
       "      <td>73</td>\n",
       "      <td>1007</td>\n",
       "      <td>330A 12TH AVE., SAN DIEGO, CA. 92112</td>\n",
       "      <td>California</td>\n",
       "      <td>San Diego</td>\n",
       "      <td>San Diego</td>\n",
       "      <td>2000-01-05</td>\n",
       "      <td>41</td>\n",
       "    </tr>\n",
       "  </tbody>\n",
       "</table>\n",
       "</div>"
      ],
      "text/plain": [
       "   state_code  county_code  site_num                               address  \\\n",
       "0           6           73      1007  330A 12TH AVE., SAN DIEGO, CA. 92112   \n",
       "1           6           73      1007  330A 12TH AVE., SAN DIEGO, CA. 92112   \n",
       "2           6           73      1007  330A 12TH AVE., SAN DIEGO, CA. 92112   \n",
       "3           6           73      1007  330A 12TH AVE., SAN DIEGO, CA. 92112   \n",
       "4           6           73      1007  330A 12TH AVE., SAN DIEGO, CA. 92112   \n",
       "\n",
       "        state     county       city  date_local  co_agi  \n",
       "0  California  San Diego  San Diego  2000-01-01      17  \n",
       "1  California  San Diego  San Diego  2000-01-02      20  \n",
       "2  California  San Diego  San Diego  2000-01-03      30  \n",
       "3  California  San Diego  San Diego  2000-01-04      34  \n",
       "4  California  San Diego  San Diego  2000-01-05      41  "
      ]
     },
     "execution_count": 13,
     "metadata": {},
     "output_type": "execute_result"
    }
   ],
   "source": [
    "pollution_train_df = pd.read_sql_query('''SELECT * FROM most_polluted_city;''' , cnx)\n",
    "pollution_train_df.head()"
   ]
  },
  {
   "cell_type": "code",
   "execution_count": 14,
   "id": "a5251f36",
   "metadata": {},
   "outputs": [],
   "source": [
    "# Split data into our features\n",
    "feature_cols = ['state_code', 'county_code', 'site_num','county','city', 'date_local']\n",
    "X = pollution_train_df [feature_cols]\n",
    "y = pollution_train_df ['co_agi']"
   ]
  },
  {
   "cell_type": "code",
   "execution_count": 15,
   "id": "51b2da14",
   "metadata": {},
   "outputs": [],
   "source": [
    "# Split the dataset into testing and traing sets\n",
    "X_train, X_test, y_train, y_test = train_test_split(X, y, test_size=0.4, random_state=6)"
   ]
  },
  {
   "cell_type": "code",
   "execution_count": 16,
   "id": "a575da46",
   "metadata": {},
   "outputs": [
    {
     "name": "stdout",
     "output_type": "stream",
     "text": [
      "Counter({8: 396, 7: 353, 9: 339, 10: 320, 5: 312, 6: 291, 11: 267, 13: 224, 14: 203, 15: 170, 3: 159, 16: 159, 17: 151, 19: 130, 18: 128, 20: 114, 22: 99, 23: 82, 24: 77, 25: 75, 2: 66, 26: 61, 27: 52, 28: 40, 30: 37, 32: 28, 31: 28, 34: 20, 33: 17, 35: 15, 36: 13, 40: 11, 44: 8, 42: 8, 39: 7, 38: 7, 41: 6, 1: 5, 49: 3, 55: 3, 43: 3, 45: 2, 54: 2, 53: 2, 47: 2, 51: 1, 48: 1, 50: 1, 61: 1, 52: 1})\n",
      "Counter({7: 240, 8: 224, 9: 217, 5: 209, 6: 195, 10: 185, 11: 174, 13: 159, 3: 138, 15: 134, 14: 133, 16: 109, 18: 96, 19: 92, 17: 89, 23: 73, 20: 72, 22: 64, 2: 51, 26: 49, 24: 39, 27: 36, 25: 33, 28: 32, 31: 29, 32: 22, 30: 21, 33: 21, 34: 15, 1: 6, 47: 5, 38: 4, 39: 4, 40: 4, 41: 3, 45: 3, 36: 3, 50: 3, 35: 3, 51: 3, 0: 2, 42: 2, 44: 1, 65: 1, 53: 1, 54: 1, 43: 1})\n"
     ]
    }
   ],
   "source": [
    "print(Counter(y_train))\n",
    "print(Counter(y_test))"
   ]
  },
  {
   "cell_type": "code",
   "execution_count": null,
   "id": "1580c298",
   "metadata": {},
   "outputs": [],
   "source": []
  }
 ],
 "metadata": {
  "kernelspec": {
   "display_name": "PythonData",
   "language": "python",
   "name": "pythondata"
  },
  "language_info": {
   "codemirror_mode": {
    "name": "ipython",
    "version": 3
   },
   "file_extension": ".py",
   "mimetype": "text/x-python",
   "name": "python",
   "nbconvert_exporter": "python",
   "pygments_lexer": "ipython3",
   "version": "3.7.10"
  }
 },
 "nbformat": 4,
 "nbformat_minor": 5
}
