{
 "cells": [
  {
   "cell_type": "code",
   "execution_count": 1,
   "id": "b602f16d",
   "metadata": {},
   "outputs": [],
   "source": [
    "# A mockup of our machine learning model\n",
    "# accuracy of predicting Air Quality Index for most polluted and least polluted city"
   ]
  },
  {
   "cell_type": "code",
   "execution_count": 2,
   "id": "a770464f",
   "metadata": {},
   "outputs": [],
   "source": [
    "# Import our dependencies\n",
    "import pandas as pd\n",
    "import matplotlib as plt\n",
    "import sklearn as skl\n",
    "from sklearn.model_selection import train_test_split\n",
    "from collections import Counter\n",
    "from pathlib import Path\n",
    "import matplotlib.pyplot as plt\n",
    "from sklearn.linear_model import LinearRegression"
   ]
  },
  {
   "cell_type": "code",
   "execution_count": 141,
   "id": "ff6deaef",
   "metadata": {},
   "outputs": [
    {
     "data": {
      "text/html": [
       "<div>\n",
       "<style scoped>\n",
       "    .dataframe tbody tr th:only-of-type {\n",
       "        vertical-align: middle;\n",
       "    }\n",
       "\n",
       "    .dataframe tbody tr th {\n",
       "        vertical-align: top;\n",
       "    }\n",
       "\n",
       "    .dataframe thead th {\n",
       "        text-align: right;\n",
       "    }\n",
       "</style>\n",
       "<table border=\"1\" class=\"dataframe\">\n",
       "  <thead>\n",
       "    <tr style=\"text-align: right;\">\n",
       "      <th></th>\n",
       "      <th>state_code</th>\n",
       "      <th>county_code</th>\n",
       "      <th>site_num</th>\n",
       "      <th>address</th>\n",
       "      <th>state</th>\n",
       "      <th>county</th>\n",
       "      <th>city</th>\n",
       "      <th>co_agi</th>\n",
       "      <th>year</th>\n",
       "    </tr>\n",
       "  </thead>\n",
       "  <tbody>\n",
       "    <tr>\n",
       "      <th>0</th>\n",
       "      <td>6</td>\n",
       "      <td>73</td>\n",
       "      <td>1007</td>\n",
       "      <td>330A 12TH AVE., SAN DIEGO, CA. 92112</td>\n",
       "      <td>California</td>\n",
       "      <td>San Diego</td>\n",
       "      <td>San Diego</td>\n",
       "      <td>17.378873</td>\n",
       "      <td>2000</td>\n",
       "    </tr>\n",
       "    <tr>\n",
       "      <th>1</th>\n",
       "      <td>6</td>\n",
       "      <td>73</td>\n",
       "      <td>1007</td>\n",
       "      <td>330A 12TH AVE., SAN DIEGO, CA. 92112</td>\n",
       "      <td>California</td>\n",
       "      <td>San Diego</td>\n",
       "      <td>San Diego</td>\n",
       "      <td>14.279330</td>\n",
       "      <td>2003</td>\n",
       "    </tr>\n",
       "    <tr>\n",
       "      <th>2</th>\n",
       "      <td>6</td>\n",
       "      <td>73</td>\n",
       "      <td>1007</td>\n",
       "      <td>330A 12TH AVE., SAN DIEGO, CA. 92112</td>\n",
       "      <td>California</td>\n",
       "      <td>San Diego</td>\n",
       "      <td>San Diego</td>\n",
       "      <td>8.215470</td>\n",
       "      <td>2011</td>\n",
       "    </tr>\n",
       "    <tr>\n",
       "      <th>3</th>\n",
       "      <td>6</td>\n",
       "      <td>73</td>\n",
       "      <td>1007</td>\n",
       "      <td>330A 12TH AVE., SAN DIEGO, CA. 92112</td>\n",
       "      <td>California</td>\n",
       "      <td>San Diego</td>\n",
       "      <td>San Diego</td>\n",
       "      <td>11.764706</td>\n",
       "      <td>2008</td>\n",
       "    </tr>\n",
       "    <tr>\n",
       "      <th>4</th>\n",
       "      <td>6</td>\n",
       "      <td>73</td>\n",
       "      <td>1007</td>\n",
       "      <td>330A 12TH AVE., SAN DIEGO, CA. 92112</td>\n",
       "      <td>California</td>\n",
       "      <td>San Diego</td>\n",
       "      <td>San Diego</td>\n",
       "      <td>14.609682</td>\n",
       "      <td>2001</td>\n",
       "    </tr>\n",
       "  </tbody>\n",
       "</table>\n",
       "</div>"
      ],
      "text/plain": [
       "   state_code  county_code  site_num                               address  \\\n",
       "0           6           73      1007  330A 12TH AVE., SAN DIEGO, CA. 92112   \n",
       "1           6           73      1007  330A 12TH AVE., SAN DIEGO, CA. 92112   \n",
       "2           6           73      1007  330A 12TH AVE., SAN DIEGO, CA. 92112   \n",
       "3           6           73      1007  330A 12TH AVE., SAN DIEGO, CA. 92112   \n",
       "4           6           73      1007  330A 12TH AVE., SAN DIEGO, CA. 92112   \n",
       "\n",
       "        state     county       city     co_agi  year  \n",
       "0  California  San Diego  San Diego  17.378873  2000  \n",
       "1  California  San Diego  San Diego  14.279330  2003  \n",
       "2  California  San Diego  San Diego   8.215470  2011  \n",
       "3  California  San Diego  San Diego  11.764706  2008  \n",
       "4  California  San Diego  San Diego  14.609682  2001  "
      ]
     },
     "execution_count": 141,
     "metadata": {},
     "output_type": "execute_result"
    }
   ],
   "source": [
    "# Upload csv\n",
    "pollution_train_df = pd.read_csv('Most_polluted.csv')\n",
    "pollution_train_df.head()"
   ]
  },
  {
   "cell_type": "code",
   "execution_count": 142,
   "id": "a5251f36",
   "metadata": {},
   "outputs": [],
   "source": [
    "# Split data into our features\n",
    "feature_cols = ['state_code', 'county_code', 'site_num','year']\n",
    "X = pollution_train_df [feature_cols]\n",
    "y = pollution_train_df ['co_agi']"
   ]
  },
  {
   "cell_type": "code",
   "execution_count": 143,
   "id": "51b2da14",
   "metadata": {},
   "outputs": [],
   "source": [
    "# Split the dataset into testing and traing sets\n",
    "X_train, X_test, y_train, y_test = train_test_split(X, y, test_size=0.25, random_state=0)"
   ]
  },
  {
   "cell_type": "code",
   "execution_count": 144,
   "id": "a575da46",
   "metadata": {},
   "outputs": [
    {
     "name": "stdout",
     "output_type": "stream",
     "text": [
      "Counter({12.86581921: 1, 8.215469613: 1, 10.34854772: 1, 14.27932961: 1, 13.86433566: 1, 14.25730181: 1, 11.76470588: 1, 17.37887324: 1, 9.063400576: 1})\n",
      "Counter({11.45603577: 1, 13.71906841: 1, 14.6096823: 1})\n"
     ]
    }
   ],
   "source": [
    "print(Counter(y_train))\n",
    "print(Counter(y_test))"
   ]
  },
  {
   "cell_type": "code",
   "execution_count": 145,
   "id": "1580c298",
   "metadata": {},
   "outputs": [],
   "source": [
    "from sklearn.linear_model import LogisticRegression\n",
    "classifier = LogisticRegression(solver='lbfgs',\n",
    "   max_iter=200,\n",
    "   random_state=1)"
   ]
  },
  {
   "cell_type": "code",
   "execution_count": 149,
   "id": "e2dd6732",
   "metadata": {},
   "outputs": [
    {
     "data": {
      "image/png": "[encoded data removed]",
      "text/plain": [
       "<Figure size 432x288 with 1 Axes>"
      ]
     },
     "metadata": {
      "needs_background": "light"
     },
     "output_type": "display_data"
    }
   ],
   "source": [
    "plt.scatter(pollution_train_df.year, pollution_train_df.co_agi)\n",
    "plt.xlabel('Year')\n",
    "plt.ylabel('CO_AQI')\n",
    "plt.show()"
   ]
  },
  {
   "cell_type": "code",
   "execution_count": 150,
   "id": "703ec8e4",
   "metadata": {},
   "outputs": [],
   "source": [
    "X = pollution_train_df.year.values.reshape(-1, 1)"
   ]
  },
  {
   "cell_type": "code",
   "execution_count": 151,
   "id": "090cfba3",
   "metadata": {},
   "outputs": [
    {
     "data": {
      "text/plain": [
       "(12, 1)"
      ]
     },
     "execution_count": 151,
     "metadata": {},
     "output_type": "execute_result"
    }
   ],
   "source": [
    "X.shape"
   ]
  },
  {
   "cell_type": "code",
   "execution_count": 152,
   "id": "be97c366",
   "metadata": {},
   "outputs": [],
   "source": [
    "y = pollution_train_df.co_agi"
   ]
  },
  {
   "cell_type": "code",
   "execution_count": 153,
   "id": "f69eeba4",
   "metadata": {},
   "outputs": [],
   "source": [
    "model = LinearRegression()"
   ]
  },
  {
   "cell_type": "code",
   "execution_count": 154,
   "id": "4cb13cd1",
   "metadata": {},
   "outputs": [
    {
     "data": {
      "text/plain": [
       "LinearRegression()"
      ]
     },
     "execution_count": 154,
     "metadata": {},
     "output_type": "execute_result"
    }
   ],
   "source": [
    "model.fit(X, y)"
   ]
  },
  {
   "cell_type": "code",
   "execution_count": 155,
   "id": "1cfb53d1",
   "metadata": {},
   "outputs": [
    {
     "name": "stdout",
     "output_type": "stream",
     "text": [
      "(12,)\n"
     ]
    }
   ],
   "source": [
    "y_pred = model.predict(X)\n",
    "print(y_pred.shape)"
   ]
  },
  {
   "cell_type": "code",
   "execution_count": 156,
   "id": "a057373a",
   "metadata": {},
   "outputs": [
    {
     "data": {
      "image/png": "[encoded data removed]",
      "text/plain": [
       "<Figure size 432x288 with 1 Axes>"
      ]
     },
     "metadata": {
      "needs_background": "light"
     },
     "output_type": "display_data"
    }
   ],
   "source": [
    "plt.scatter(X, y)\n",
    "plt.plot(X, y_pred, color='red')\n",
    "plt.xlabel('Year')\n",
    "plt.ylabel('CO_AQI')\n",
    "plt.show()"
   ]
  },
  {
   "cell_type": "code",
   "execution_count": 157,
   "id": "2ac4b63e",
   "metadata": {},
   "outputs": [
    {
     "name": "stdout",
     "output_type": "stream",
     "text": [
      "[-0.68935195]\n",
      "1395.1472113735642\n"
     ]
    }
   ],
   "source": [
    "print(model.coef_)\n",
    "print(model.intercept_)"
   ]
  },
  {
   "cell_type": "code",
   "execution_count": 158,
   "id": "f273afb4",
   "metadata": {},
   "outputs": [
    {
     "data": {
      "text/html": [
       "<div>\n",
       "<style scoped>\n",
       "    .dataframe tbody tr th:only-of-type {\n",
       "        vertical-align: middle;\n",
       "    }\n",
       "\n",
       "    .dataframe tbody tr th {\n",
       "        vertical-align: top;\n",
       "    }\n",
       "\n",
       "    .dataframe thead th {\n",
       "        text-align: right;\n",
       "    }\n",
       "</style>\n",
       "<table border=\"1\" class=\"dataframe\">\n",
       "  <thead>\n",
       "    <tr style=\"text-align: right;\">\n",
       "      <th></th>\n",
       "      <th>state_code</th>\n",
       "      <th>county_code</th>\n",
       "      <th>site_num</th>\n",
       "      <th>address</th>\n",
       "      <th>state</th>\n",
       "      <th>county</th>\n",
       "      <th>city</th>\n",
       "      <th>co_agi</th>\n",
       "      <th>year</th>\n",
       "    </tr>\n",
       "  </thead>\n",
       "  <tbody>\n",
       "    <tr>\n",
       "      <th>0</th>\n",
       "      <td>40</td>\n",
       "      <td>21</td>\n",
       "      <td>9002</td>\n",
       "      <td>P.O. BOX 948   TAHLEQUAH, OK  74464</td>\n",
       "      <td>Oklahoma</td>\n",
       "      <td>Cherokee</td>\n",
       "      <td>Park Hill</td>\n",
       "      <td>0.962264</td>\n",
       "      <td>2000</td>\n",
       "    </tr>\n",
       "    <tr>\n",
       "      <th>1</th>\n",
       "      <td>40</td>\n",
       "      <td>21</td>\n",
       "      <td>9002</td>\n",
       "      <td>P.O. BOX 948   TAHLEQUAH, OK  74464</td>\n",
       "      <td>Oklahoma</td>\n",
       "      <td>Cherokee</td>\n",
       "      <td>Park Hill</td>\n",
       "      <td>0.556452</td>\n",
       "      <td>2003</td>\n",
       "    </tr>\n",
       "    <tr>\n",
       "      <th>2</th>\n",
       "      <td>40</td>\n",
       "      <td>21</td>\n",
       "      <td>9002</td>\n",
       "      <td>P.O. BOX 948   TAHLEQUAH, OK  74464</td>\n",
       "      <td>Oklahoma</td>\n",
       "      <td>Cherokee</td>\n",
       "      <td>Park Hill</td>\n",
       "      <td>0.593750</td>\n",
       "      <td>2008</td>\n",
       "    </tr>\n",
       "    <tr>\n",
       "      <th>3</th>\n",
       "      <td>40</td>\n",
       "      <td>21</td>\n",
       "      <td>9002</td>\n",
       "      <td>P.O. BOX 948   TAHLEQUAH, OK  74464</td>\n",
       "      <td>Oklahoma</td>\n",
       "      <td>Cherokee</td>\n",
       "      <td>Park Hill</td>\n",
       "      <td>0.981651</td>\n",
       "      <td>2001</td>\n",
       "    </tr>\n",
       "    <tr>\n",
       "      <th>4</th>\n",
       "      <td>40</td>\n",
       "      <td>21</td>\n",
       "      <td>9002</td>\n",
       "      <td>P.O. BOX 948   TAHLEQUAH, OK  74464</td>\n",
       "      <td>Oklahoma</td>\n",
       "      <td>Cherokee</td>\n",
       "      <td>Park Hill</td>\n",
       "      <td>0.966102</td>\n",
       "      <td>2007</td>\n",
       "    </tr>\n",
       "  </tbody>\n",
       "</table>\n",
       "</div>"
      ],
      "text/plain": [
       "   state_code  county_code  site_num                              address  \\\n",
       "0          40           21      9002  P.O. BOX 948   TAHLEQUAH, OK  74464   \n",
       "1          40           21      9002  P.O. BOX 948   TAHLEQUAH, OK  74464   \n",
       "2          40           21      9002  P.O. BOX 948   TAHLEQUAH, OK  74464   \n",
       "3          40           21      9002  P.O. BOX 948   TAHLEQUAH, OK  74464   \n",
       "4          40           21      9002  P.O. BOX 948   TAHLEQUAH, OK  74464   \n",
       "\n",
       "      state    county       city    co_agi  year  \n",
       "0  Oklahoma  Cherokee  Park Hill  0.962264  2000  \n",
       "1  Oklahoma  Cherokee  Park Hill  0.556452  2003  \n",
       "2  Oklahoma  Cherokee  Park Hill  0.593750  2008  \n",
       "3  Oklahoma  Cherokee  Park Hill  0.981651  2001  \n",
       "4  Oklahoma  Cherokee  Park Hill  0.966102  2007  "
      ]
     },
     "execution_count": 158,
     "metadata": {},
     "output_type": "execute_result"
    }
   ],
   "source": [
    "# Upload csv\n",
    "pollution_train_df = pd.read_csv('least_polluted.csv')\n",
    "pollution_train_df.head()"
   ]
  },
  {
   "cell_type": "code",
   "execution_count": 159,
   "id": "723e2739",
   "metadata": {},
   "outputs": [
    {
     "data": {
      "image/png": "[encoded data removed]",
      "text/plain": [
       "<Figure size 432x288 with 1 Axes>"
      ]
     },
     "metadata": {
      "needs_background": "light"
     },
     "output_type": "display_data"
    }
   ],
   "source": [
    "plt.scatter(pollution_train_df.year, pollution_train_df.co_agi)\n",
    "plt.xlabel('Year')\n",
    "plt.ylabel('CO_AQI')\n",
    "plt.show()"
   ]
  },
  {
   "cell_type": "code",
   "execution_count": 160,
   "id": "11c8dda2",
   "metadata": {},
   "outputs": [],
   "source": [
    "X = pollution_train_df.year.values.reshape(-1, 1)"
   ]
  },
  {
   "cell_type": "code",
   "execution_count": 161,
   "id": "9d602650",
   "metadata": {},
   "outputs": [
    {
     "data": {
      "text/plain": [
       "(10, 1)"
      ]
     },
     "execution_count": 161,
     "metadata": {},
     "output_type": "execute_result"
    }
   ],
   "source": [
    "X.shape"
   ]
  },
  {
   "cell_type": "code",
   "execution_count": 162,
   "id": "495f19b0",
   "metadata": {},
   "outputs": [],
   "source": [
    "y = pollution_train_df.co_agi"
   ]
  },
  {
   "cell_type": "code",
   "execution_count": 163,
   "id": "bb6d1102",
   "metadata": {},
   "outputs": [],
   "source": [
    "model = LinearRegression()"
   ]
  },
  {
   "cell_type": "code",
   "execution_count": 164,
   "id": "eaa0abe9",
   "metadata": {},
   "outputs": [
    {
     "data": {
      "text/plain": [
       "LinearRegression()"
      ]
     },
     "execution_count": 164,
     "metadata": {},
     "output_type": "execute_result"
    }
   ],
   "source": [
    "model.fit(X, y)"
   ]
  },
  {
   "cell_type": "code",
   "execution_count": 165,
   "id": "444fd5e4",
   "metadata": {},
   "outputs": [
    {
     "name": "stdout",
     "output_type": "stream",
     "text": [
      "(10,)\n"
     ]
    }
   ],
   "source": [
    "y_pred = model.predict(X)\n",
    "print(y_pred.shape)"
   ]
  },
  {
   "cell_type": "code",
   "execution_count": 166,
   "id": "c0d542b7",
   "metadata": {},
   "outputs": [
    {
     "data": {
      "image/png": "[encoded data removed]",
      "text/plain": [
       "<Figure size 432x288 with 1 Axes>"
      ]
     },
     "metadata": {
      "needs_background": "light"
     },
     "output_type": "display_data"
    }
   ],
   "source": [
    "plt.scatter(X, y)\n",
    "plt.plot(X, y_pred, color='red')\n",
    "plt.xlabel('Year')\n",
    "plt.ylabel('CO_AQI')\n",
    "plt.show()"
   ]
  },
  {
   "cell_type": "code",
   "execution_count": 167,
   "id": "5baed56c",
   "metadata": {},
   "outputs": [
    {
     "name": "stdout",
     "output_type": "stream",
     "text": [
      "[-0.06001507]\n",
      "120.93868935145449\n"
     ]
    }
   ],
   "source": [
    "print(model.coef_)\n",
    "print(model.intercept_)"
   ]
  },
  {
   "cell_type": "code",
   "execution_count": null,
   "id": "689277cd",
   "metadata": {},
   "outputs": [],
   "source": []
  }
 ],
 "metadata": {
  "kernelspec": {
   "display_name": "PythonData",
   "language": "python",
   "name": "pythondata"
  },
  "language_info": {
   "codemirror_mode": {
    "name": "ipython",
    "version": 3
   },
   "file_extension": ".py",
   "mimetype": "text/x-python",
   "name": "python",
   "nbconvert_exporter": "python",
   "pygments_lexer": "ipython3",
   "version": "3.8.8"
  }
 },
 "nbformat": 4,
 "nbformat_minor": 5
}
