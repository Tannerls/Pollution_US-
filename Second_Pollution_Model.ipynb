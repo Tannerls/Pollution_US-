{
 "cells": [
  {
   "cell_type": "code",
   "execution_count": 1,
   "id": "b602f16d",
   "metadata": {},
   "outputs": [],
   "source": [
    "# A mockup of our machine learning model\n",
    "# accuracy of predicting Air Quality Index for most polluted and least polluted city"
   ]
  },
  {
   "cell_type": "code",
   "execution_count": 2,
   "id": "a770464f",
   "metadata": {},
   "outputs": [],
   "source": [
    "# Import our dependencies\n",
    "import pandas as pd\n",
    "import matplotlib as plt\n",
    "import sklearn as skl\n",
    "import sqlalchemy\n",
    "from sqlalchemy import create_engine \n",
    "from sklearn.model_selection import train_test_split\n",
    "from collections import Counter"
   ]
  },
  {
   "cell_type": "code",
   "execution_count": 3,
   "id": "3e9459df",
   "metadata": {},
   "outputs": [],
   "source": [
    "# Postgres username, password, and database name (change accordingly)\n",
    "postgres_address = 'localhost'\n",
    "postgres_port = '5432' \n",
    "postgres_username = 'postgres' \n",
    "postgres_password = 'Wolfin2330'\n",
    "postgres_dbname = 'Pollution_US'\n",
    "# A long string that contains the necessary Postgres login information\n",
    "postgres_str = ('postgresql://{username}:{password}@{ipaddress}:{port}/{dbname}'\n",
    "                .format(username=postgres_username,\n",
    "                        password=postgres_password,\n",
    "                        ipaddress=postgres_address,\n",
    "                        port=postgres_port,\n",
    "                        dbname=postgres_dbname))\n",
    "# Create the connection\n",
    "cnx = create_engine(postgres_str)"
   ]
  },
  {
   "cell_type": "code",
   "execution_count": 4,
   "id": "7b43567e",
   "metadata": {},
   "outputs": [
    {
     "data": {
      "text/html": [
       "<div>\n",
       "<style scoped>\n",
       "    .dataframe tbody tr th:only-of-type {\n",
       "        vertical-align: middle;\n",
       "    }\n",
       "\n",
       "    .dataframe tbody tr th {\n",
       "        vertical-align: top;\n",
       "    }\n",
       "\n",
       "    .dataframe thead th {\n",
       "        text-align: right;\n",
       "    }\n",
       "</style>\n",
       "<table border=\"1\" class=\"dataframe\">\n",
       "  <thead>\n",
       "    <tr style=\"text-align: right;\">\n",
       "      <th></th>\n",
       "      <th>state_code</th>\n",
       "      <th>county_code</th>\n",
       "      <th>site_num</th>\n",
       "      <th>address</th>\n",
       "      <th>state</th>\n",
       "      <th>county</th>\n",
       "      <th>city</th>\n",
       "      <th>date_local</th>\n",
       "      <th>co_agi</th>\n",
       "    </tr>\n",
       "  </thead>\n",
       "  <tbody>\n",
       "    <tr>\n",
       "      <th>0</th>\n",
       "      <td>6</td>\n",
       "      <td>73</td>\n",
       "      <td>1007</td>\n",
       "      <td>330A 12TH AVE., SAN DIEGO, CA. 92112</td>\n",
       "      <td>California</td>\n",
       "      <td>San Diego</td>\n",
       "      <td>San Diego</td>\n",
       "      <td>2000-01-01</td>\n",
       "      <td>17</td>\n",
       "    </tr>\n",
       "    <tr>\n",
       "      <th>1</th>\n",
       "      <td>6</td>\n",
       "      <td>73</td>\n",
       "      <td>1007</td>\n",
       "      <td>330A 12TH AVE., SAN DIEGO, CA. 92112</td>\n",
       "      <td>California</td>\n",
       "      <td>San Diego</td>\n",
       "      <td>San Diego</td>\n",
       "      <td>2000-01-02</td>\n",
       "      <td>20</td>\n",
       "    </tr>\n",
       "    <tr>\n",
       "      <th>2</th>\n",
       "      <td>6</td>\n",
       "      <td>73</td>\n",
       "      <td>1007</td>\n",
       "      <td>330A 12TH AVE., SAN DIEGO, CA. 92112</td>\n",
       "      <td>California</td>\n",
       "      <td>San Diego</td>\n",
       "      <td>San Diego</td>\n",
       "      <td>2000-01-03</td>\n",
       "      <td>30</td>\n",
       "    </tr>\n",
       "    <tr>\n",
       "      <th>3</th>\n",
       "      <td>6</td>\n",
       "      <td>73</td>\n",
       "      <td>1007</td>\n",
       "      <td>330A 12TH AVE., SAN DIEGO, CA. 92112</td>\n",
       "      <td>California</td>\n",
       "      <td>San Diego</td>\n",
       "      <td>San Diego</td>\n",
       "      <td>2000-01-04</td>\n",
       "      <td>34</td>\n",
       "    </tr>\n",
       "    <tr>\n",
       "      <th>4</th>\n",
       "      <td>6</td>\n",
       "      <td>73</td>\n",
       "      <td>1007</td>\n",
       "      <td>330A 12TH AVE., SAN DIEGO, CA. 92112</td>\n",
       "      <td>California</td>\n",
       "      <td>San Diego</td>\n",
       "      <td>San Diego</td>\n",
       "      <td>2000-01-05</td>\n",
       "      <td>41</td>\n",
       "    </tr>\n",
       "  </tbody>\n",
       "</table>\n",
       "</div>"
      ],
      "text/plain": [
       "   state_code  county_code  site_num                               address  \\\n",
       "0           6           73      1007  330A 12TH AVE., SAN DIEGO, CA. 92112   \n",
       "1           6           73      1007  330A 12TH AVE., SAN DIEGO, CA. 92112   \n",
       "2           6           73      1007  330A 12TH AVE., SAN DIEGO, CA. 92112   \n",
       "3           6           73      1007  330A 12TH AVE., SAN DIEGO, CA. 92112   \n",
       "4           6           73      1007  330A 12TH AVE., SAN DIEGO, CA. 92112   \n",
       "\n",
       "        state     county       city  date_local  co_agi  \n",
       "0  California  San Diego  San Diego  2000-01-01      17  \n",
       "1  California  San Diego  San Diego  2000-01-02      20  \n",
       "2  California  San Diego  San Diego  2000-01-03      30  \n",
       "3  California  San Diego  San Diego  2000-01-04      34  \n",
       "4  California  San Diego  San Diego  2000-01-05      41  "
      ]
     },
     "execution_count": 4,
     "metadata": {},
     "output_type": "execute_result"
    }
   ],
   "source": [
    "pollution_train_df = pd.read_sql_query('''SELECT * FROM most_polluted_city;''' , cnx)\n",
    "pollution_train_df.head()"
   ]
  },
  {
   "cell_type": "code",
   "execution_count": 5,
   "id": "a5251f36",
   "metadata": {},
   "outputs": [],
   "source": [
    "# Split data into our features\n",
    "feature_cols = ['state_code', 'county_code', 'site_num','county','city', 'date_local']\n",
    "X = pollution_train_df [feature_cols]\n",
    "y = pollution_train_df ['co_agi']"
   ]
  },
  {
   "cell_type": "code",
   "execution_count": 6,
   "id": "51b2da14",
   "metadata": {},
   "outputs": [],
   "source": [
    "# Split the dataset into testing and traing sets\n",
    "X_train, X_test, y_train, y_test = train_test_split(X, y, test_size=0.4, random_state=6)"
   ]
  },
  {
   "cell_type": "code",
   "execution_count": 7,
   "id": "a575da46",
   "metadata": {},
   "outputs": [
    {
     "name": "stdout",
     "output_type": "stream",
     "text": [
      "Counter({8: 396, 7: 353, 9: 339, 10: 320, 5: 312, 6: 291, 11: 267, 13: 224, 14: 203, 15: 170, 3: 159, 16: 159, 17: 151, 19: 130, 18: 128, 20: 114, 22: 99, 23: 82, 24: 77, 25: 75, 2: 66, 26: 61, 27: 52, 28: 40, 30: 37, 32: 28, 31: 28, 34: 20, 33: 17, 35: 15, 36: 13, 40: 11, 44: 8, 42: 8, 39: 7, 38: 7, 41: 6, 1: 5, 49: 3, 55: 3, 43: 3, 45: 2, 54: 2, 53: 2, 47: 2, 51: 1, 48: 1, 50: 1, 61: 1, 52: 1})\n",
      "Counter({7: 240, 8: 224, 9: 217, 5: 209, 6: 195, 10: 185, 11: 174, 13: 159, 3: 138, 15: 134, 14: 133, 16: 109, 18: 96, 19: 92, 17: 89, 23: 73, 20: 72, 22: 64, 2: 51, 26: 49, 24: 39, 27: 36, 25: 33, 28: 32, 31: 29, 32: 22, 30: 21, 33: 21, 34: 15, 1: 6, 47: 5, 38: 4, 39: 4, 40: 4, 41: 3, 45: 3, 36: 3, 50: 3, 35: 3, 51: 3, 0: 2, 42: 2, 44: 1, 65: 1, 53: 1, 54: 1, 43: 1})\n"
     ]
    }
   ],
   "source": [
    "print(Counter(y_train))\n",
    "print(Counter(y_test))"
   ]
  },
  {
   "cell_type": "code",
   "execution_count": 11,
   "id": "1580c298",
   "metadata": {},
   "outputs": [
    {
     "data": {
      "text/html": [
       "<div>\n",
       "<style scoped>\n",
       "    .dataframe tbody tr th:only-of-type {\n",
       "        vertical-align: middle;\n",
       "    }\n",
       "\n",
       "    .dataframe tbody tr th {\n",
       "        vertical-align: top;\n",
       "    }\n",
       "\n",
       "    .dataframe thead th {\n",
       "        text-align: right;\n",
       "    }\n",
       "</style>\n",
       "<table border=\"1\" class=\"dataframe\">\n",
       "  <thead>\n",
       "    <tr style=\"text-align: right;\">\n",
       "      <th></th>\n",
       "      <th>state_code</th>\n",
       "      <th>county_code</th>\n",
       "      <th>site_num</th>\n",
       "      <th>address</th>\n",
       "      <th>state</th>\n",
       "      <th>county</th>\n",
       "      <th>city</th>\n",
       "      <th>date_local</th>\n",
       "      <th>co_agi</th>\n",
       "    </tr>\n",
       "  </thead>\n",
       "  <tbody>\n",
       "    <tr>\n",
       "      <th>0</th>\n",
       "      <td>40</td>\n",
       "      <td>21</td>\n",
       "      <td>9002</td>\n",
       "      <td>P.O. BOX 948   TAHLEQUAH, OK  74464</td>\n",
       "      <td>Oklahoma</td>\n",
       "      <td>Cherokee</td>\n",
       "      <td>Park Hill</td>\n",
       "      <td>2000-03-02</td>\n",
       "      <td>2</td>\n",
       "    </tr>\n",
       "    <tr>\n",
       "      <th>1</th>\n",
       "      <td>40</td>\n",
       "      <td>21</td>\n",
       "      <td>9002</td>\n",
       "      <td>P.O. BOX 948   TAHLEQUAH, OK  74464</td>\n",
       "      <td>Oklahoma</td>\n",
       "      <td>Cherokee</td>\n",
       "      <td>Park Hill</td>\n",
       "      <td>2000-03-03</td>\n",
       "      <td>1</td>\n",
       "    </tr>\n",
       "    <tr>\n",
       "      <th>2</th>\n",
       "      <td>40</td>\n",
       "      <td>21</td>\n",
       "      <td>9002</td>\n",
       "      <td>P.O. BOX 948   TAHLEQUAH, OK  74464</td>\n",
       "      <td>Oklahoma</td>\n",
       "      <td>Cherokee</td>\n",
       "      <td>Park Hill</td>\n",
       "      <td>2000-03-04</td>\n",
       "      <td>2</td>\n",
       "    </tr>\n",
       "    <tr>\n",
       "      <th>3</th>\n",
       "      <td>40</td>\n",
       "      <td>21</td>\n",
       "      <td>9002</td>\n",
       "      <td>P.O. BOX 948   TAHLEQUAH, OK  74464</td>\n",
       "      <td>Oklahoma</td>\n",
       "      <td>Cherokee</td>\n",
       "      <td>Park Hill</td>\n",
       "      <td>2000-03-05</td>\n",
       "      <td>3</td>\n",
       "    </tr>\n",
       "    <tr>\n",
       "      <th>4</th>\n",
       "      <td>40</td>\n",
       "      <td>21</td>\n",
       "      <td>9002</td>\n",
       "      <td>P.O. BOX 948   TAHLEQUAH, OK  74464</td>\n",
       "      <td>Oklahoma</td>\n",
       "      <td>Cherokee</td>\n",
       "      <td>Park Hill</td>\n",
       "      <td>2000-03-06</td>\n",
       "      <td>1</td>\n",
       "    </tr>\n",
       "  </tbody>\n",
       "</table>\n",
       "</div>"
      ],
      "text/plain": [
       "   state_code  county_code  site_num                              address  \\\n",
       "0          40           21      9002  P.O. BOX 948   TAHLEQUAH, OK  74464   \n",
       "1          40           21      9002  P.O. BOX 948   TAHLEQUAH, OK  74464   \n",
       "2          40           21      9002  P.O. BOX 948   TAHLEQUAH, OK  74464   \n",
       "3          40           21      9002  P.O. BOX 948   TAHLEQUAH, OK  74464   \n",
       "4          40           21      9002  P.O. BOX 948   TAHLEQUAH, OK  74464   \n",
       "\n",
       "      state    county       city  date_local  co_agi  \n",
       "0  Oklahoma  Cherokee  Park Hill  2000-03-02       2  \n",
       "1  Oklahoma  Cherokee  Park Hill  2000-03-03       1  \n",
       "2  Oklahoma  Cherokee  Park Hill  2000-03-04       2  \n",
       "3  Oklahoma  Cherokee  Park Hill  2000-03-05       3  \n",
       "4  Oklahoma  Cherokee  Park Hill  2000-03-06       1  "
      ]
     },
     "execution_count": 11,
     "metadata": {},
     "output_type": "execute_result"
    }
   ],
   "source": [
    "pollution_train_df1 = pd.read_sql_query('''SELECT * FROM least_polluted_city;''' , cnx)\n",
    "pollution_train_df1.head()"
   ]
  },
  {
   "cell_type": "code",
   "execution_count": 12,
   "id": "b0a0b236",
   "metadata": {},
   "outputs": [
    {
     "ename": "AttributeError",
     "evalue": "Can only use .str accessor with string values!",
     "output_type": "error",
     "traceback": [
      "\u001b[1;31m---------------------------------------------------------------------------\u001b[0m",
      "\u001b[1;31mAttributeError\u001b[0m                            Traceback (most recent call last)",
      "\u001b[1;32m~\\AppData\\Local\\Temp/ipykernel_4364/814003140.py\u001b[0m in \u001b[0;36m<module>\u001b[1;34m\u001b[0m\n\u001b[1;32m----> 1\u001b[1;33m \u001b[0mpollution_train_df1\u001b[0m\u001b[1;33m[\u001b[0m\u001b[1;33m[\u001b[0m\u001b[1;34m\"year\"\u001b[0m\u001b[1;33m,\u001b[0m \u001b[1;34m\"month\"\u001b[0m\u001b[1;33m,\u001b[0m \u001b[1;34m\"day\"\u001b[0m\u001b[1;33m]\u001b[0m\u001b[1;33m]\u001b[0m \u001b[1;33m=\u001b[0m \u001b[0mpollution_train_df1\u001b[0m\u001b[1;33m[\u001b[0m\u001b[1;34m\"date_local\"\u001b[0m\u001b[1;33m]\u001b[0m\u001b[1;33m.\u001b[0m\u001b[0mstr\u001b[0m\u001b[1;33m.\u001b[0m\u001b[0msplit\u001b[0m\u001b[1;33m(\u001b[0m\u001b[1;34m\"-\"\u001b[0m\u001b[1;33m,\u001b[0m \u001b[0mexpand\u001b[0m \u001b[1;33m=\u001b[0m \u001b[1;32mTrue\u001b[0m\u001b[1;33m)\u001b[0m\u001b[1;33m\u001b[0m\u001b[1;33m\u001b[0m\u001b[0m\n\u001b[0m",
      "\u001b[1;32m~\\anaconda3\\envs\\PythonData\\lib\\site-packages\\pandas\\core\\generic.py\u001b[0m in \u001b[0;36m__getattr__\u001b[1;34m(self, name)\u001b[0m\n\u001b[0;32m   5459\u001b[0m             \u001b[1;32mor\u001b[0m \u001b[0mname\u001b[0m \u001b[1;32min\u001b[0m \u001b[0mself\u001b[0m\u001b[1;33m.\u001b[0m\u001b[0m_accessors\u001b[0m\u001b[1;33m\u001b[0m\u001b[1;33m\u001b[0m\u001b[0m\n\u001b[0;32m   5460\u001b[0m         ):\n\u001b[1;32m-> 5461\u001b[1;33m             \u001b[1;32mreturn\u001b[0m \u001b[0mobject\u001b[0m\u001b[1;33m.\u001b[0m\u001b[0m__getattribute__\u001b[0m\u001b[1;33m(\u001b[0m\u001b[0mself\u001b[0m\u001b[1;33m,\u001b[0m \u001b[0mname\u001b[0m\u001b[1;33m)\u001b[0m\u001b[1;33m\u001b[0m\u001b[1;33m\u001b[0m\u001b[0m\n\u001b[0m\u001b[0;32m   5462\u001b[0m         \u001b[1;32melse\u001b[0m\u001b[1;33m:\u001b[0m\u001b[1;33m\u001b[0m\u001b[1;33m\u001b[0m\u001b[0m\n\u001b[0;32m   5463\u001b[0m             \u001b[1;32mif\u001b[0m \u001b[0mself\u001b[0m\u001b[1;33m.\u001b[0m\u001b[0m_info_axis\u001b[0m\u001b[1;33m.\u001b[0m\u001b[0m_can_hold_identifiers_and_holds_name\u001b[0m\u001b[1;33m(\u001b[0m\u001b[0mname\u001b[0m\u001b[1;33m)\u001b[0m\u001b[1;33m:\u001b[0m\u001b[1;33m\u001b[0m\u001b[1;33m\u001b[0m\u001b[0m\n",
      "\u001b[1;32m~\\anaconda3\\envs\\PythonData\\lib\\site-packages\\pandas\\core\\accessor.py\u001b[0m in \u001b[0;36m__get__\u001b[1;34m(self, obj, cls)\u001b[0m\n\u001b[0;32m    178\u001b[0m             \u001b[1;31m# we're accessing the attribute of the class, i.e., Dataset.geo\u001b[0m\u001b[1;33m\u001b[0m\u001b[1;33m\u001b[0m\u001b[1;33m\u001b[0m\u001b[0m\n\u001b[0;32m    179\u001b[0m             \u001b[1;32mreturn\u001b[0m \u001b[0mself\u001b[0m\u001b[1;33m.\u001b[0m\u001b[0m_accessor\u001b[0m\u001b[1;33m\u001b[0m\u001b[1;33m\u001b[0m\u001b[0m\n\u001b[1;32m--> 180\u001b[1;33m         \u001b[0maccessor_obj\u001b[0m \u001b[1;33m=\u001b[0m \u001b[0mself\u001b[0m\u001b[1;33m.\u001b[0m\u001b[0m_accessor\u001b[0m\u001b[1;33m(\u001b[0m\u001b[0mobj\u001b[0m\u001b[1;33m)\u001b[0m\u001b[1;33m\u001b[0m\u001b[1;33m\u001b[0m\u001b[0m\n\u001b[0m\u001b[0;32m    181\u001b[0m         \u001b[1;31m# Replace the property with the accessor object. Inspired by:\u001b[0m\u001b[1;33m\u001b[0m\u001b[1;33m\u001b[0m\u001b[1;33m\u001b[0m\u001b[0m\n\u001b[0;32m    182\u001b[0m         \u001b[1;31m# https://www.pydanny.com/cached-property.html\u001b[0m\u001b[1;33m\u001b[0m\u001b[1;33m\u001b[0m\u001b[1;33m\u001b[0m\u001b[0m\n",
      "\u001b[1;32m~\\anaconda3\\envs\\PythonData\\lib\\site-packages\\pandas\\core\\strings\\accessor.py\u001b[0m in \u001b[0;36m__init__\u001b[1;34m(self, data)\u001b[0m\n\u001b[0;32m    152\u001b[0m         \u001b[1;32mfrom\u001b[0m \u001b[0mpandas\u001b[0m\u001b[1;33m.\u001b[0m\u001b[0mcore\u001b[0m\u001b[1;33m.\u001b[0m\u001b[0marrays\u001b[0m\u001b[1;33m.\u001b[0m\u001b[0mstring_\u001b[0m \u001b[1;32mimport\u001b[0m \u001b[0mStringDtype\u001b[0m\u001b[1;33m\u001b[0m\u001b[1;33m\u001b[0m\u001b[0m\n\u001b[0;32m    153\u001b[0m \u001b[1;33m\u001b[0m\u001b[0m\n\u001b[1;32m--> 154\u001b[1;33m         \u001b[0mself\u001b[0m\u001b[1;33m.\u001b[0m\u001b[0m_inferred_dtype\u001b[0m \u001b[1;33m=\u001b[0m \u001b[0mself\u001b[0m\u001b[1;33m.\u001b[0m\u001b[0m_validate\u001b[0m\u001b[1;33m(\u001b[0m\u001b[0mdata\u001b[0m\u001b[1;33m)\u001b[0m\u001b[1;33m\u001b[0m\u001b[1;33m\u001b[0m\u001b[0m\n\u001b[0m\u001b[0;32m    155\u001b[0m         \u001b[0mself\u001b[0m\u001b[1;33m.\u001b[0m\u001b[0m_is_categorical\u001b[0m \u001b[1;33m=\u001b[0m \u001b[0mis_categorical_dtype\u001b[0m\u001b[1;33m(\u001b[0m\u001b[0mdata\u001b[0m\u001b[1;33m.\u001b[0m\u001b[0mdtype\u001b[0m\u001b[1;33m)\u001b[0m\u001b[1;33m\u001b[0m\u001b[1;33m\u001b[0m\u001b[0m\n\u001b[0;32m    156\u001b[0m         \u001b[0mself\u001b[0m\u001b[1;33m.\u001b[0m\u001b[0m_is_string\u001b[0m \u001b[1;33m=\u001b[0m \u001b[0misinstance\u001b[0m\u001b[1;33m(\u001b[0m\u001b[0mdata\u001b[0m\u001b[1;33m.\u001b[0m\u001b[0mdtype\u001b[0m\u001b[1;33m,\u001b[0m \u001b[0mStringDtype\u001b[0m\u001b[1;33m)\u001b[0m\u001b[1;33m\u001b[0m\u001b[1;33m\u001b[0m\u001b[0m\n",
      "\u001b[1;32m~\\anaconda3\\envs\\PythonData\\lib\\site-packages\\pandas\\core\\strings\\accessor.py\u001b[0m in \u001b[0;36m_validate\u001b[1;34m(data)\u001b[0m\n\u001b[0;32m    215\u001b[0m \u001b[1;33m\u001b[0m\u001b[0m\n\u001b[0;32m    216\u001b[0m         \u001b[1;32mif\u001b[0m \u001b[0minferred_dtype\u001b[0m \u001b[1;32mnot\u001b[0m \u001b[1;32min\u001b[0m \u001b[0mallowed_types\u001b[0m\u001b[1;33m:\u001b[0m\u001b[1;33m\u001b[0m\u001b[1;33m\u001b[0m\u001b[0m\n\u001b[1;32m--> 217\u001b[1;33m             \u001b[1;32mraise\u001b[0m \u001b[0mAttributeError\u001b[0m\u001b[1;33m(\u001b[0m\u001b[1;34m\"Can only use .str accessor with string values!\"\u001b[0m\u001b[1;33m)\u001b[0m\u001b[1;33m\u001b[0m\u001b[1;33m\u001b[0m\u001b[0m\n\u001b[0m\u001b[0;32m    218\u001b[0m         \u001b[1;32mreturn\u001b[0m \u001b[0minferred_dtype\u001b[0m\u001b[1;33m\u001b[0m\u001b[1;33m\u001b[0m\u001b[0m\n\u001b[0;32m    219\u001b[0m \u001b[1;33m\u001b[0m\u001b[0m\n",
      "\u001b[1;31mAttributeError\u001b[0m: Can only use .str accessor with string values!"
     ]
    }
   ],
   "source": [
    "pollution_train_df1[[\"year\", \"month\", \"day\"]] = pollution_train_df1[\"date_local\"].str.split(\"-\", expand = True)"
   ]
  },
  {
   "cell_type": "code",
   "execution_count": null,
   "id": "23d43ea9",
   "metadata": {},
   "outputs": [],
   "source": []
  }
 ],
 "metadata": {
  "kernelspec": {
   "display_name": "PythonData",
   "language": "python",
   "name": "pythondata"
  },
  "language_info": {
   "codemirror_mode": {
    "name": "ipython",
    "version": 3
   },
   "file_extension": ".py",
   "mimetype": "text/x-python",
   "name": "python",
   "nbconvert_exporter": "python",
   "pygments_lexer": "ipython3",
   "version": "3.7.10"
  }
 },
 "nbformat": 4,
 "nbformat_minor": 5
}
