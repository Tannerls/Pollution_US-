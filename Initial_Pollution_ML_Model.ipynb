{
 "cells": [
  {
   "cell_type": "code",
   "execution_count": null,
   "id": "b602f16d",
   "metadata": {},
   "outputs": [],
   "source": [
    "# A mockup of our machine learning model\n",
    "# accuracy of predicting Air Quality Index for most polluted and least polluted city"
   ]
  },
  {
   "cell_type": "code",
   "execution_count": 4,
   "id": "a770464f",
   "metadata": {},
   "outputs": [],
   "source": [
    "# Import our dependencies\n",
    "import pandas as pd\n",
    "import matplotlib as plt\n",
    "import sklearn as skl\n",
    "import sqlalchemy\n",
    "from sqlalchemy import create_engine \n",
    "from sklearn.model_selection import train_test_split\n",
    "from collections import Counter"
   ]
  },
  {
   "cell_type": "code",
   "execution_count": 5,
   "id": "5b567142",
   "metadata": {},
   "outputs": [],
   "source": [
    "# Postgres username, password, and database name (change accordingly)\n",
    "postgres_address = 'localhost'\n",
    "postgres_port = '5432' \n",
    "postgres_username = 'postgres' \n",
    "postgres_password = 'Wolfin2330'\n",
    "postgres_dbname = 'Pollution_US'\n",
    "# A long string that contains the necessary Postgres login information\n",
    "postgres_str = ('postgresql://{username}:{password}@{ipaddress}:{port}/{dbname}'\n",
    "                .format(username=postgres_username,\n",
    "                        password=postgres_password,\n",
    "                        ipaddress=postgres_address,\n",
    "                        port=postgres_port,\n",
    "                        dbname=postgres_dbname))\n",
    "# Create the connection\n",
    "cnx = create_engine(postgres_str)"
   ]
  },
  {
   "cell_type": "code",
   "execution_count": 6,
   "id": "ff6deaef",
   "metadata": {},
   "outputs": [
    {
     "data": {
      "text/html": [
       "<div>\n",
       "<style scoped>\n",
       "    .dataframe tbody tr th:only-of-type {\n",
       "        vertical-align: middle;\n",
       "    }\n",
       "\n",
       "    .dataframe tbody tr th {\n",
       "        vertical-align: top;\n",
       "    }\n",
       "\n",
       "    .dataframe thead th {\n",
       "        text-align: right;\n",
       "    }\n",
       "</style>\n",
       "<table border=\"1\" class=\"dataframe\">\n",
       "  <thead>\n",
       "    <tr style=\"text-align: right;\">\n",
       "      <th></th>\n",
       "      <th>state_code</th>\n",
       "      <th>county_code</th>\n",
       "      <th>site_num</th>\n",
       "      <th>address</th>\n",
       "      <th>state</th>\n",
       "      <th>county</th>\n",
       "      <th>city</th>\n",
       "      <th>date_local</th>\n",
       "      <th>co_agi</th>\n",
       "    </tr>\n",
       "  </thead>\n",
       "  <tbody>\n",
       "    <tr>\n",
       "      <th>0</th>\n",
       "      <td>80</td>\n",
       "      <td>2</td>\n",
       "      <td>12</td>\n",
       "      <td>UABC, CALZADA BENITO JUAREZ, MEXICALI</td>\n",
       "      <td>Country Of Mexico</td>\n",
       "      <td>BAJA CALIFORNIA NORTE</td>\n",
       "      <td>Mexicali</td>\n",
       "      <td>2006-01-01</td>\n",
       "      <td>47</td>\n",
       "    </tr>\n",
       "    <tr>\n",
       "      <th>1</th>\n",
       "      <td>80</td>\n",
       "      <td>2</td>\n",
       "      <td>12</td>\n",
       "      <td>UABC, CALZADA BENITO JUAREZ, MEXICALI</td>\n",
       "      <td>Country Of Mexico</td>\n",
       "      <td>BAJA CALIFORNIA NORTE</td>\n",
       "      <td>Mexicali</td>\n",
       "      <td>2006-01-02</td>\n",
       "      <td>47</td>\n",
       "    </tr>\n",
       "    <tr>\n",
       "      <th>2</th>\n",
       "      <td>80</td>\n",
       "      <td>2</td>\n",
       "      <td>12</td>\n",
       "      <td>UABC, CALZADA BENITO JUAREZ, MEXICALI</td>\n",
       "      <td>Country Of Mexico</td>\n",
       "      <td>BAJA CALIFORNIA NORTE</td>\n",
       "      <td>Mexicali</td>\n",
       "      <td>2006-01-04</td>\n",
       "      <td>40</td>\n",
       "    </tr>\n",
       "    <tr>\n",
       "      <th>3</th>\n",
       "      <td>80</td>\n",
       "      <td>2</td>\n",
       "      <td>12</td>\n",
       "      <td>UABC, CALZADA BENITO JUAREZ, MEXICALI</td>\n",
       "      <td>Country Of Mexico</td>\n",
       "      <td>BAJA CALIFORNIA NORTE</td>\n",
       "      <td>Mexicali</td>\n",
       "      <td>2006-01-05</td>\n",
       "      <td>34</td>\n",
       "    </tr>\n",
       "    <tr>\n",
       "      <th>4</th>\n",
       "      <td>80</td>\n",
       "      <td>2</td>\n",
       "      <td>12</td>\n",
       "      <td>UABC, CALZADA BENITO JUAREZ, MEXICALI</td>\n",
       "      <td>Country Of Mexico</td>\n",
       "      <td>BAJA CALIFORNIA NORTE</td>\n",
       "      <td>Mexicali</td>\n",
       "      <td>2006-01-06</td>\n",
       "      <td>84</td>\n",
       "    </tr>\n",
       "  </tbody>\n",
       "</table>\n",
       "</div>"
      ],
      "text/plain": [
       "   state_code  county_code  site_num                                address  \\\n",
       "0          80            2        12  UABC, CALZADA BENITO JUAREZ, MEXICALI   \n",
       "1          80            2        12  UABC, CALZADA BENITO JUAREZ, MEXICALI   \n",
       "2          80            2        12  UABC, CALZADA BENITO JUAREZ, MEXICALI   \n",
       "3          80            2        12  UABC, CALZADA BENITO JUAREZ, MEXICALI   \n",
       "4          80            2        12  UABC, CALZADA BENITO JUAREZ, MEXICALI   \n",
       "\n",
       "               state                 county      city  date_local  co_agi  \n",
       "0  Country Of Mexico  BAJA CALIFORNIA NORTE  Mexicali  2006-01-01      47  \n",
       "1  Country Of Mexico  BAJA CALIFORNIA NORTE  Mexicali  2006-01-02      47  \n",
       "2  Country Of Mexico  BAJA CALIFORNIA NORTE  Mexicali  2006-01-04      40  \n",
       "3  Country Of Mexico  BAJA CALIFORNIA NORTE  Mexicali  2006-01-05      34  \n",
       "4  Country Of Mexico  BAJA CALIFORNIA NORTE  Mexicali  2006-01-06      84  "
      ]
     },
     "execution_count": 6,
     "metadata": {},
     "output_type": "execute_result"
    }
   ],
   "source": [
    "# Upload csv\n",
    "pollution_train_df = pd.read_csv('Most_polluted_city.csv')\n",
    "pollution_train_df.head()"
   ]
  },
  {
   "cell_type": "code",
   "execution_count": 7,
   "id": "a5251f36",
   "metadata": {},
   "outputs": [],
   "source": [
    "# Split data into our features\n",
    "feature_cols = ['state_code', 'county_code', 'site_num','county','city', 'date_local']\n",
    "X = pollution_train_df [feature_cols]\n",
    "y = pollution_train_df ['co_agi']"
   ]
  },
  {
   "cell_type": "code",
   "execution_count": 8,
   "id": "51b2da14",
   "metadata": {},
   "outputs": [],
   "source": [
    "# Split the dataset into testing and traing sets\n",
    "X_train, X_test, y_train, y_test = train_test_split(X, y, test_size=0.4, random_state=6)"
   ]
  },
  {
   "cell_type": "code",
   "execution_count": 9,
   "id": "a575da46",
   "metadata": {},
   "outputs": [
    {
     "name": "stdout",
     "output_type": "stream",
     "text": [
      "Counter({5: 49, 6: 39, 3: 37, 7: 33, 2: 27, 8: 26, 11: 24, 13: 19, 9: 19, 1: 16, 10: 16, 14: 15, 17: 15, 30: 15, 23: 14, 25: 13, 38: 12, 16: 12, 20: 12, 24: 12, 22: 12, 15: 11, 18: 10, 31: 10, 36: 9, 28: 8, 0: 8, 35: 7, 32: 7, 26: 7, 27: 6, 54: 6, 40: 6, 44: 6, 19: 5, 39: 5, 59: 5, 42: 5, 50: 4, 57: 4, 45: 4, 41: 4, 49: 4, 61: 4, 52: 4, 43: 4, 55: 4, 58: 4, 70: 3, 47: 3, 48: 3, 34: 3, 62: 3, 33: 3, 64: 3, 51: 2, 56: 2, 68: 2, 86: 2, 65: 2, 76: 2, 67: 2, 53: 2, 78: 2, 74: 1, 60: 1, 84: 1, 63: 1, 73: 1, 103: 1, 89: 1, 135: 1, 72: 1, 79: 1, 90: 1, 77: 1, 75: 1, 143: 1, 80: 1, 69: 1, 81: 1, 66: 1, 88: 1})\n",
      "Counter({6: 33, 3: 28, 5: 27, 2: 23, 10: 20, 7: 20, 8: 18, 9: 14, 23: 11, 11: 11, 20: 10, 13: 10, 1: 10, 18: 10, 26: 9, 14: 9, 19: 8, 15: 8, 41: 7, 24: 7, 22: 7, 0: 7, 25: 6, 42: 6, 34: 6, 16: 6, 38: 5, 17: 5, 27: 5, 30: 5, 35: 5, 31: 4, 39: 4, 50: 4, 36: 3, 47: 3, 40: 3, 32: 3, 57: 3, 33: 3, 53: 3, 28: 3, 56: 3, 60: 3, 54: 2, 45: 2, 84: 2, 66: 2, 78: 2, 43: 2, 49: 2, 51: 2, 55: 2, 48: 2, 52: 2, 75: 2, 91: 1, 118: 1, 106: 1, 101: 1, 63: 1, 67: 1, 69: 1, 64: 1, 74: 1, 150: 1, 70: 1, 72: 1, 61: 1, 44: 1, 76: 1, 62: 1})\n"
     ]
    }
   ],
   "source": [
    "print(Counter(y_train))\n",
    "print(Counter(y_test))"
   ]
  },
  {
   "cell_type": "code",
   "execution_count": null,
   "id": "1580c298",
   "metadata": {},
   "outputs": [],
   "source": []
  }
 ],
 "metadata": {
  "kernelspec": {
   "display_name": "PythonData",
   "language": "python",
   "name": "pythondata"
  },
  "language_info": {
   "codemirror_mode": {
    "name": "ipython",
    "version": 3
   },
   "file_extension": ".py",
   "mimetype": "text/x-python",
   "name": "python",
   "nbconvert_exporter": "python",
   "pygments_lexer": "ipython3",
   "version": "3.7.10"
  }
 },
 "nbformat": 4,
 "nbformat_minor": 5
}
